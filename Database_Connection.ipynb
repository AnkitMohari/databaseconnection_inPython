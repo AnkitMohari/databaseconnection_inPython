{
 "cells": [
  {
   "cell_type": "code",
   "execution_count": 1,
   "metadata": {},
   "outputs": [],
   "source": [
    "import sqlite3"
   ]
  },
  {
   "cell_type": "code",
   "execution_count": 5,
   "metadata": {},
   "outputs": [
    {
     "name": "stdout",
     "output_type": "stream",
     "text": [
      "('five', 5)\n",
      "('four', 4)\n",
      "('one', 1)\n",
      "('six', 6)\n",
      "('three', 3)\n",
      "('two', 2)\n"
     ]
    }
   ],
   "source": [
    "def main():\n",
    "    db = sqlite3.connect(\"test.db\")\n",
    "    db.execute(\"drop table if exists test\")\n",
    "    db.execute(\"create table test (t1 text, i1 int)\")\n",
    "    db.execute(\"insert into test (t1, i1) values(?, ?)\", (\"one\", 1))\n",
    "    db.execute(\"insert into test (t1, i1) values(?, ?)\", (\"two\", 2))\n",
    "    db.execute(\"insert into test (t1, i1) values(?, ?)\", (\"three\", 3))\n",
    "    db.execute(\"insert into test (t1, i1) values(?, ?)\", (\"four\", 4))\n",
    "    db.execute(\"insert into test (t1, i1) values(?, ?)\", (\"five\", 5))\n",
    "    db.execute(\"insert into test (t1, i1) values(?, ?)\", (\"six\", 6))\n",
    "    db.commit()\n",
    "    cursor = db.execute(\"select * from test order by t1\")\n",
    "    for row in cursor:\n",
    "        print(row)\n",
    "if __name__ == \"__main__\": main()"
   ]
  },
  {
   "cell_type": "code",
   "execution_count": 9,
   "metadata": {},
   "outputs": [
    {
     "name": "stdout",
     "output_type": "stream",
     "text": [
      "(5, 'five')\n",
      "(4, 'four')\n",
      "(1, 'one')\n",
      "(6, 'six')\n",
      "(3, 'three')\n",
      "(2, 'two')\n"
     ]
    }
   ],
   "source": [
    "db = sqlite3.connect(\"test.db\")\n",
    "cursor = db.execute(\"select i1,  t1 from test order by t1\")\n",
    "for row in cursor:\n",
    "    print(row)"
   ]
  },
  {
   "cell_type": "code",
   "execution_count": 13,
   "metadata": {},
   "outputs": [
    {
     "name": "stdout",
     "output_type": "stream",
     "text": [
      "{'i1': 5, 't1': 'five'}\n",
      "{'i1': 4, 't1': 'four'}\n",
      "{'i1': 1, 't1': 'one'}\n",
      "{'i1': 6, 't1': 'six'}\n",
      "{'i1': 3, 't1': 'three'}\n",
      "{'i1': 2, 't1': 'two'}\n"
     ]
    }
   ],
   "source": [
    "db = sqlite3.connect(\"test.db\")\n",
    "db.row_factory = sqlite3.Row\n",
    "cursor = db.execute(\"select i1,  t1 from test order by t1\")\n",
    "for row in cursor:\n",
    "    print(dict(row))\n"
   ]
  },
  {
   "cell_type": "code",
   "execution_count": null,
   "metadata": {},
   "outputs": [],
   "source": []
  }
 ],
 "metadata": {
  "kernelspec": {
   "display_name": "Python 3",
   "language": "python",
   "name": "python3"
  },
  "language_info": {
   "codemirror_mode": {
    "name": "ipython",
    "version": 3
   },
   "file_extension": ".py",
   "mimetype": "text/x-python",
   "name": "python",
   "nbconvert_exporter": "python",
   "pygments_lexer": "ipython3",
   "version": "3.8.3"
  }
 },
 "nbformat": 4,
 "nbformat_minor": 4
}
